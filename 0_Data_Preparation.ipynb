{
 "cells": [
  {
   "cell_type": "code",
   "execution_count": 1,
   "id": "d0500bdb-5f98-41b9-9879-ab8de3cf6dc3",
   "metadata": {},
   "outputs": [
    {
     "name": "stderr",
     "output_type": "stream",
     "text": [
      "/home/alex/anaconda3/lib/python3.9/site-packages/pandas/core/computation/expressions.py:21: UserWarning: Pandas requires version '2.8.0' or newer of 'numexpr' (version '2.7.3' currently installed).\n",
      "  from pandas.core.computation.check import NUMEXPR_INSTALLED\n",
      "/home/alex/anaconda3/lib/python3.9/site-packages/pandas/core/arrays/masked.py:62: UserWarning: Pandas requires version '1.3.4' or newer of 'bottleneck' (version '1.3.2' currently installed).\n",
      "  from pandas.core import (\n"
     ]
    }
   ],
   "source": [
    "import pandas as pd\n",
    "import matplotlib.pyplot as plt\n",
    "import numpy as np"
   ]
  },
  {
   "cell_type": "code",
   "execution_count": 2,
   "id": "d379f14d-4245-4821-8b53-90fe035b8407",
   "metadata": {},
   "outputs": [],
   "source": [
    "data = pd.read_csv('Poll_answers.csv')"
   ]
  },
  {
   "cell_type": "markdown",
   "id": "78d4b512-44b8-46f4-a5c0-74926c35e401",
   "metadata": {},
   "source": [
    "#### Data preprocessing"
   ]
  },
  {
   "cell_type": "code",
   "execution_count": 3,
   "id": "deb590d1-c9d7-4658-9b20-9562a5143b5a",
   "metadata": {},
   "outputs": [],
   "source": [
    "data = data.drop(['Отметка времени','Any other comments:'],axis=1)"
   ]
  },
  {
   "cell_type": "code",
   "execution_count": 4,
   "id": "626329be-c848-4820-9bd7-3de0bab37ead",
   "metadata": {},
   "outputs": [
    {
     "data": {
      "text/plain": [
       "Index(['Which LSST collaboration or related group you are a part of?',\n",
       "       'What is your career stage?',\n",
       "       'Did you ever receive any formal programming or software development training?',\n",
       "       'If you had a formal programming or software development training, which languages did it cover?',\n",
       "       'How often on average do you write code?',\n",
       "       'Which programming languages do you use most often?',\n",
       "       'Which Integrated Development Environment(s) (IDEs) do you use, if any? (e.g. Jupyter Notebook, PyCharm, Spyder, Visual Studio...)',\n",
       "       'Do you use git repositories?', 'Do you use git branches?',\n",
       "       'Do you write unit tests?',\n",
       "       'Do you use linters or code auto-formatters?',\n",
       "       'Do you write some kind of software documentation (e.g. using Sphinx)?',\n",
       "       'Do you use debuggers?',\n",
       "       'Do you use collaborative GitHub tools (e.g. pull requests and issues)?',\n",
       "       'Do you often work on some software collaboratively (e.g. develop specific features of a large software project or engage in code review)?',\n",
       "       'Are you familiar with programming paradigms (e.g. Functional, Procedural, Object-Oriented)?',\n",
       "       'Do you write Software Requirements and/or Design documents?',\n",
       "       'Any other software development tools or best practices that you use and consider to be worth learning?'],\n",
       "      dtype='object')"
      ]
     },
     "execution_count": 4,
     "metadata": {},
     "output_type": "execute_result"
    }
   ],
   "source": [
    "data.columns"
   ]
  },
  {
   "cell_type": "code",
   "execution_count": 5,
   "id": "96b154af-b15d-4b38-9ce8-4bf48e0aa445",
   "metadata": {
    "scrolled": true
   },
   "outputs": [],
   "source": [
    "data = data.rename({'Which LSST collaboration or related group you are a part of?':'LSST affiliation',\n",
    "       'What is your career stage?':'stage',\n",
    "       'Did you ever receive any formal programming or software development training?':'training',\n",
    "       'If you had a formal programming or software development training, which languages did it cover?':'lang_training',\n",
    "       'How often on average do you write code?':'freq_coding',\n",
    "       'Which programming languages do you use most often?':'lang_freq',\n",
    "       'Which Integrated Development Environment(s) (IDEs) do you use, if any? (e.g. Jupyter Notebook, PyCharm, Spyder, Visual Studio...)':'IDE',\n",
    "       'Do you use git repositories?':'git_repo', 'Do you use git branches?':'git_branch',\n",
    "       'Do you write unit tests?':'unit_test',\n",
    "       'Do you use linters or code auto-formatters?':'linters',\n",
    "       'Do you write some kind of software documentation (e.g. using Sphinx)?':'soft_doc',\n",
    "       'Do you use debuggers?':'debuggers',\n",
    "       'Do you use collaborative GitHub tools (e.g. pull requests and issues)?':'git_PRs',\n",
    "       'Do you often work on some software collaboratively (e.g. develop specific features of a large software project or engage in code review)?':'collab_coding',\n",
    "       'Are you familiar with programming paradigms (e.g. Functional, Procedural, Object-Oriented)?':'paradigms',\n",
    "       'Do you write Software Requirements and/or Design documents?':'SDDs',\n",
    "       'Any other software development tools or best practices that you use and consider to be worth learning?':'notes'},axis=1)"
   ]
  },
  {
   "cell_type": "code",
   "execution_count": 6,
   "id": "5d3083b7-5f44-4db2-b0b4-914cae33458a",
   "metadata": {},
   "outputs": [
    {
     "data": {
      "text/plain": [
       "Index(['LSST affiliation', 'stage', 'training', 'lang_training', 'freq_coding',\n",
       "       'lang_freq', 'IDE', 'git_repo', 'git_branch', 'unit_test', 'linters',\n",
       "       'soft_doc', 'debuggers', 'git_PRs', 'collab_coding', 'paradigms',\n",
       "       'SDDs', 'notes'],\n",
       "      dtype='object')"
      ]
     },
     "execution_count": 6,
     "metadata": {},
     "output_type": "execute_result"
    }
   ],
   "source": [
    "data.columns"
   ]
  },
  {
   "cell_type": "code",
   "execution_count": 7,
   "id": "c933805c-5f58-43cd-9a10-cb59b52212e0",
   "metadata": {},
   "outputs": [],
   "source": [
    "aff = [s.split(', ') for s in list(data['LSST affiliation'])]\n",
    "aff = [l for af in aff for l in af]"
   ]
  },
  {
   "cell_type": "code",
   "execution_count": 8,
   "id": "d043cee1-53c7-4d5d-aac4-5fc776d5005c",
   "metadata": {
    "scrolled": true
   },
   "outputs": [
    {
     "data": {
      "text/plain": [
       "aff                                \n",
       "Transients and Variable Stars          23\n",
       "Galaxies                                9\n",
       "Informatics and Statistics              8\n",
       "Dark Energy                             7\n",
       "Milky Way                               6\n",
       "Stars                                   6\n",
       "and Local Volume                        6\n",
       "Strong Lensing                          4\n",
       "Alerts Broker (specify below which)     4\n",
       "Active Galactic Nuclei                  3\n",
       "Solar System                            2\n",
       "ALeRCE                                  2\n",
       "IDAC developer                          1\n",
       "LINCC                                   1\n",
       "RSP developer                           1\n",
       "Rubin DM                                1\n",
       "Fink                                    1\n",
       "Telescope & Site Software               1\n",
       "The ALeRCE Broker                       1\n",
       "Name: count, dtype: int64"
      ]
     },
     "execution_count": 8,
     "metadata": {},
     "output_type": "execute_result"
    }
   ],
   "source": [
    "pd.DataFrame(aff,columns=['aff']).value_counts()"
   ]
  },
  {
   "cell_type": "code",
   "execution_count": 9,
   "id": "1882a3f0-2c43-43b1-b4f9-70dd3eb2315f",
   "metadata": {},
   "outputs": [],
   "source": [
    "data = data.replace({'training':{'No, self-learning only':'self-learn','Yes, university courses as part of the general curriculum':'uni courses',\n",
    "                         'Yes, short workshops or courses (<6 month of duration summarily)': 'short courses',\n",
    "                         'Yes, I have a software development-related university degree':'uni degree'}})"
   ]
  },
  {
   "cell_type": "code",
   "execution_count": 10,
   "id": "256817c8-3813-41ba-a5ab-33dded44d226",
   "metadata": {},
   "outputs": [],
   "source": [
    "data = data.replace({'stage':{'Undergraduate student (bachelor, master)':'0_undergrad',\n",
    "                              'PhD student':'1_Phd', 'Postdoc':'2_Postdoc','Tenure track position':'3_tenureTrk',\n",
    "                              'Permanent position':'4_permanent',\n",
    "                                'Software Engineer':'5_softEngnr',\n",
    "                                'Machine Learning Engineer (staff, not in academic track)':'5_softEngnr',\n",
    "                                'Software engineer':'5_softEngnr',\n",
    "                                }})"
   ]
  },
  {
   "cell_type": "code",
   "execution_count": 11,
   "id": "5e7f911d-0520-4f60-a691-eb757f3c85b6",
   "metadata": {},
   "outputs": [
    {
     "data": {
      "text/plain": [
       "stage\n",
       "4_permanent    15\n",
       "2_Postdoc      10\n",
       "1_Phd           9\n",
       "5_softEngnr     4\n",
       "3_tenureTrk     3\n",
       "0_undergrad     2\n",
       "Name: count, dtype: int64"
      ]
     },
     "execution_count": 11,
     "metadata": {},
     "output_type": "execute_result"
    }
   ],
   "source": [
    "data['stage'].value_counts()"
   ]
  },
  {
   "cell_type": "code",
   "execution_count": 12,
   "id": "b3297593-e654-4bf7-a3af-a9b456dfd715",
   "metadata": {},
   "outputs": [],
   "source": [
    "data = data.sort_values(by='stage')"
   ]
  },
  {
   "cell_type": "code",
   "execution_count": 15,
   "id": "6da419cc-c273-4481-a881-81251c58c089",
   "metadata": {},
   "outputs": [
    {
     "name": "stdout",
     "output_type": "stream",
     "text": [
      "SDDs :  ['I heard about this, but never wrote one', 'I write them for some of my projects', 'Never heard of it', 'I write them for all of my projects']\n",
      "collab_coding :  ['Sometimes', 'All the time', 'Never', 'It happed on a few occasions']\n",
      "debuggers :  ['Know about their existence, never used it', 'Use them all the time', 'Never heard of them', 'Use them rarely', 'Use them from time to time']\n",
      "freq_coding :  ['Almost every day', 'Couple times per week', 'Almost never', 'Several times per month']\n",
      "git_PRs :  ['Use it from time to time', 'Use them all the time', 'Use it rarely', 'Know about its existence, never used it', 'Never heard of it']\n",
      "git_branch :  ['Use it from time to time', 'Use them all the time', 'Know about its existence, never used it', 'Use it rarely', 'Never heard of it']\n",
      "git_repo :  ['Use it from time to time', 'Use them all the time', 'Use it rarely', 'Know about its existence, never used it']\n",
      "linters :  ['Use it rarely', 'Use them all the time', 'Never heard of it', 'Know about its existence, never used it', 'Use it from time to time']\n",
      "paradigms :  ['I have a vague understanding of what it is', 'I can discern between them and can write code following one or another paradigm', \"I heard about them, but I don't know the difference\", 'Never heard of it']\n",
      "soft_doc :  ['Know about its existence, never wrote it', 'Write it for most of my projects', 'Never heard of it', 'Write it rarely', 'Write it for some of my projects']\n",
      "unit_test :  ['Know about its existence, never used it', 'Write them for most of my projects', 'Never heard of it', 'Write them rarely', 'Write them from time to time']\n"
     ]
    }
   ],
   "source": [
    "cols = ['freq_coding','git_repo','git_branch','unit_test','linters','soft_doc','debuggers','git_PRs','collab_coding','paradigms','SDDs']\n",
    "for c in sorted(cols):\n",
    "    print(c,': ',list(data[c].unique()))"
   ]
  },
  {
   "cell_type": "code",
   "execution_count": 16,
   "id": "cc5efc8f-53fa-4a48-b473-998f4a80beac",
   "metadata": {
    "scrolled": true
   },
   "outputs": [],
   "source": [
    "data_enc = data.replace(to_replace=r'.*ll the time', value=4, regex=True).replace(to_replace=r'.*every day', value=4, regex=True).replace(to_replace=r'.* most.*', value=4, regex=True)\n",
    "data_enc = data_enc.replace(to_replace=r'.*ll of my project', value=4, regex=True)\n",
    "data_enc = data_enc.replace(to_replace=r'.*can write code following one or another', value=4, regex=True)\n",
    "data_enc = data_enc.replace(to_replace=r'.*vague understanding of.*', value=3, regex=True)\n",
    "data_enc = data_enc.replace(to_replace=r'.*t know the difference.*', value=2, regex=True)"
   ]
  },
  {
   "cell_type": "code",
   "execution_count": 17,
   "id": "403b1260-af96-466b-8c57-9b77c08eb2f7",
   "metadata": {},
   "outputs": [
    {
     "name": "stderr",
     "output_type": "stream",
     "text": [
      "/tmp/ipykernel_1000206/2787828252.py:4: FutureWarning: Downcasting behavior in `replace` is deprecated and will be removed in a future version. To retain the old behavior, explicitly call `result.infer_objects(copy=False)`. To opt-in to the future behavior, set `pd.set_option('future.no_silent_downcasting', True)`\n",
      "  data_enc = data_enc.replace(to_replace=r'.*rarely', value=2, regex=True).replace(to_replace='.*Never.*', value=1, regex=True).replace(to_replace='.*never.*', value=1, regex=True)\n"
     ]
    }
   ],
   "source": [
    "data_enc = data_enc.replace(to_replace=r'.*from time to time', value=3, regex=True).replace(to_replace='Couple times per week', value=3, regex=True).replace(to_replace=r'.*some.*', value=3, regex=True)\n",
    "data_enc = data_enc.replace(to_replace=r'Several times per month', value=2, regex=True)\n",
    "data_enc = data_enc.replace(to_replace=r'Sometimes', value=3, regex=True).replace(to_replace=r'.*few occasions', value=2, regex=True)\n",
    "data_enc = data_enc.replace(to_replace=r'.*rarely', value=2, regex=True).replace(to_replace='.*Never.*', value=1, regex=True).replace(to_replace='.*never.*', value=1, regex=True)"
   ]
  },
  {
   "cell_type": "code",
   "execution_count": 20,
   "id": "43419289-b57f-4b4d-8011-d6bd9cf6bb8a",
   "metadata": {},
   "outputs": [],
   "source": [
    "data_enc.to_csv('Poll_answers_encoded.csv',index=False)"
   ]
  }
 ],
 "metadata": {
  "kernelspec": {
   "display_name": "Python 3 (ipykernel)",
   "language": "python",
   "name": "python3"
  },
  "language_info": {
   "codemirror_mode": {
    "name": "ipython",
    "version": 3
   },
   "file_extension": ".py",
   "mimetype": "text/x-python",
   "name": "python",
   "nbconvert_exporter": "python",
   "pygments_lexer": "ipython3",
   "version": "3.9.7"
  }
 },
 "nbformat": 4,
 "nbformat_minor": 5
}
